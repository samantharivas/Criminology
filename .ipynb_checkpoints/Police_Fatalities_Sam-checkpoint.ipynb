{
 "cells": [
  {
   "cell_type": "markdown",
   "id": "355a2ad7",
   "metadata": {},
   "source": [
    "# Police Fatalities in the US From 2000 To 2020\n",
    "\n",
    "Data obtained from Kaggle: https://www.kaggle.com/datasets/djonafegnem/police-fatalities-in-the-us-from-2000-to-2020\n",
    "\n",
    "GitHub link: https://github.com/samantharivas/Police_Fatalities.git"
   ]
  },
  {
   "cell_type": "markdown",
   "id": "8add6be8",
   "metadata": {},
   "source": [
    "## Import Libaries"
   ]
  },
  {
   "cell_type": "code",
   "execution_count": 1,
   "id": "40f42487",
   "metadata": {},
   "outputs": [
    {
     "name": "stdout",
     "output_type": "stream",
     "text": [
      "no display found. Using non-interactive Agg backend\n"
     ]
    }
   ],
   "source": [
    "import pandas as pd\n",
    "import numpy as np\n",
    "import seaborn as sns\n",
    "\n",
    "import dmba\n",
    "from dmba import regressionSummary, gainsChart, liftChart\n",
    "from dmba import adjusted_r2_score, AIC_score, BIC_score\n",
    "\n",
    "from sklearn.impute import SimpleImputer\n",
    "from sklearn.impute import KNNImputer\n",
    "from sklearn.metrics import confusion_matrix, accuracy_score, ConfusionMatrixDisplay, classification_report\n",
    "from sklearn.model_selection import train_test_split, cross_val_score\n",
    "from sklearn.preprocessing import StandardScaler\n",
    "from sklearn.decomposition import PCA\n",
    "from sklearn.preprocessing import MultiLabelBinarizer\n",
    "from sklearn.preprocessing import OneHotEncoder\n",
    "\n",
    "from sklearn.feature_extraction.text import TfidfVectorizer\n",
    "from sklearn.feature_selection import SelectKBest, chi2, f_classif\n",
    "from sklearn.linear_model import Perceptron\n",
    "\n",
    "import scipy.stats as stats\n",
    "from scipy.stats import chi2_contingency\n",
    "\n",
    "import folium\n",
    "\n",
    "\n",
    "import os\n",
    "\n",
    "%matplotlib inline\n",
    "import matplotlib.pylab as plt\n",
    "import matplotlib \n",
    "import matplotlib.ticker as mticker\n",
    "\n",
    "import warnings\n",
    "warnings.filterwarnings(\"ignore\") #supress warnings"
   ]
  },
  {
   "cell_type": "markdown",
   "id": "91469a05",
   "metadata": {},
   "source": [
    "## Import Dataset"
   ]
  },
  {
   "cell_type": "code",
   "execution_count": 4,
   "id": "6f735d09",
   "metadata": {},
   "outputs": [
    {
     "ename": "FileNotFoundError",
     "evalue": "[Errno 2] No such file or directory: 'police_fatalities.csv'",
     "output_type": "error",
     "traceback": [
      "\u001b[0;31m---------------------------------------------------------------------------\u001b[0m",
      "\u001b[0;31mFileNotFoundError\u001b[0m                         Traceback (most recent call last)",
      "\u001b[0;32m/var/folders/7x/mfyhhlkn0fz774bmn50_szsm0000gn/T/ipykernel_67693/953313641.py\u001b[0m in \u001b[0;36m<module>\u001b[0;34m\u001b[0m\n\u001b[1;32m      1\u001b[0m \u001b[0;31m# download datset from Kaggle\u001b[0m\u001b[0;34m\u001b[0m\u001b[0;34m\u001b[0m\u001b[0m\n\u001b[0;32m----> 2\u001b[0;31m \u001b[0mpolice_df\u001b[0m \u001b[0;34m=\u001b[0m \u001b[0mpd\u001b[0m\u001b[0;34m.\u001b[0m\u001b[0mread_csv\u001b[0m\u001b[0;34m(\u001b[0m\u001b[0;34m'police_fatalities.csv'\u001b[0m\u001b[0;34m)\u001b[0m \u001b[0;31m# read csv file\u001b[0m\u001b[0;34m\u001b[0m\u001b[0;34m\u001b[0m\u001b[0m\n\u001b[0m\u001b[1;32m      3\u001b[0m \u001b[0;34m\u001b[0m\u001b[0m\n\u001b[1;32m      4\u001b[0m \u001b[0;31m# rename columns by replacing spaces with underscores\u001b[0m\u001b[0;34m\u001b[0m\u001b[0;34m\u001b[0m\u001b[0m\n\u001b[1;32m      5\u001b[0m \u001b[0mpolice_df\u001b[0m\u001b[0;34m.\u001b[0m\u001b[0mcolumns\u001b[0m \u001b[0;34m=\u001b[0m \u001b[0mpolice_df\u001b[0m\u001b[0;34m.\u001b[0m\u001b[0mcolumns\u001b[0m\u001b[0;34m.\u001b[0m\u001b[0mstr\u001b[0m\u001b[0;34m.\u001b[0m\u001b[0mreplace\u001b[0m\u001b[0;34m(\u001b[0m\u001b[0;34m' '\u001b[0m\u001b[0;34m,\u001b[0m \u001b[0;34m'_'\u001b[0m\u001b[0;34m)\u001b[0m\u001b[0;34m\u001b[0m\u001b[0;34m\u001b[0m\u001b[0m\n",
      "\u001b[0;32m~/opt/anaconda3/lib/python3.9/site-packages/pandas/util/_decorators.py\u001b[0m in \u001b[0;36mwrapper\u001b[0;34m(*args, **kwargs)\u001b[0m\n\u001b[1;32m    309\u001b[0m                     \u001b[0mstacklevel\u001b[0m\u001b[0;34m=\u001b[0m\u001b[0mstacklevel\u001b[0m\u001b[0;34m,\u001b[0m\u001b[0;34m\u001b[0m\u001b[0;34m\u001b[0m\u001b[0m\n\u001b[1;32m    310\u001b[0m                 )\n\u001b[0;32m--> 311\u001b[0;31m             \u001b[0;32mreturn\u001b[0m \u001b[0mfunc\u001b[0m\u001b[0;34m(\u001b[0m\u001b[0;34m*\u001b[0m\u001b[0margs\u001b[0m\u001b[0;34m,\u001b[0m \u001b[0;34m**\u001b[0m\u001b[0mkwargs\u001b[0m\u001b[0;34m)\u001b[0m\u001b[0;34m\u001b[0m\u001b[0;34m\u001b[0m\u001b[0m\n\u001b[0m\u001b[1;32m    312\u001b[0m \u001b[0;34m\u001b[0m\u001b[0m\n\u001b[1;32m    313\u001b[0m         \u001b[0;32mreturn\u001b[0m \u001b[0mwrapper\u001b[0m\u001b[0;34m\u001b[0m\u001b[0;34m\u001b[0m\u001b[0m\n",
      "\u001b[0;32m~/opt/anaconda3/lib/python3.9/site-packages/pandas/io/parsers/readers.py\u001b[0m in \u001b[0;36mread_csv\u001b[0;34m(filepath_or_buffer, sep, delimiter, header, names, index_col, usecols, squeeze, prefix, mangle_dupe_cols, dtype, engine, converters, true_values, false_values, skipinitialspace, skiprows, skipfooter, nrows, na_values, keep_default_na, na_filter, verbose, skip_blank_lines, parse_dates, infer_datetime_format, keep_date_col, date_parser, dayfirst, cache_dates, iterator, chunksize, compression, thousands, decimal, lineterminator, quotechar, quoting, doublequote, escapechar, comment, encoding, encoding_errors, dialect, error_bad_lines, warn_bad_lines, on_bad_lines, delim_whitespace, low_memory, memory_map, float_precision, storage_options)\u001b[0m\n\u001b[1;32m    676\u001b[0m     \u001b[0mkwds\u001b[0m\u001b[0;34m.\u001b[0m\u001b[0mupdate\u001b[0m\u001b[0;34m(\u001b[0m\u001b[0mkwds_defaults\u001b[0m\u001b[0;34m)\u001b[0m\u001b[0;34m\u001b[0m\u001b[0;34m\u001b[0m\u001b[0m\n\u001b[1;32m    677\u001b[0m \u001b[0;34m\u001b[0m\u001b[0m\n\u001b[0;32m--> 678\u001b[0;31m     \u001b[0;32mreturn\u001b[0m \u001b[0m_read\u001b[0m\u001b[0;34m(\u001b[0m\u001b[0mfilepath_or_buffer\u001b[0m\u001b[0;34m,\u001b[0m \u001b[0mkwds\u001b[0m\u001b[0;34m)\u001b[0m\u001b[0;34m\u001b[0m\u001b[0;34m\u001b[0m\u001b[0m\n\u001b[0m\u001b[1;32m    679\u001b[0m \u001b[0;34m\u001b[0m\u001b[0m\n\u001b[1;32m    680\u001b[0m \u001b[0;34m\u001b[0m\u001b[0m\n",
      "\u001b[0;32m~/opt/anaconda3/lib/python3.9/site-packages/pandas/io/parsers/readers.py\u001b[0m in \u001b[0;36m_read\u001b[0;34m(filepath_or_buffer, kwds)\u001b[0m\n\u001b[1;32m    573\u001b[0m \u001b[0;34m\u001b[0m\u001b[0m\n\u001b[1;32m    574\u001b[0m     \u001b[0;31m# Create the parser.\u001b[0m\u001b[0;34m\u001b[0m\u001b[0;34m\u001b[0m\u001b[0m\n\u001b[0;32m--> 575\u001b[0;31m     \u001b[0mparser\u001b[0m \u001b[0;34m=\u001b[0m \u001b[0mTextFileReader\u001b[0m\u001b[0;34m(\u001b[0m\u001b[0mfilepath_or_buffer\u001b[0m\u001b[0;34m,\u001b[0m \u001b[0;34m**\u001b[0m\u001b[0mkwds\u001b[0m\u001b[0;34m)\u001b[0m\u001b[0;34m\u001b[0m\u001b[0;34m\u001b[0m\u001b[0m\n\u001b[0m\u001b[1;32m    576\u001b[0m \u001b[0;34m\u001b[0m\u001b[0m\n\u001b[1;32m    577\u001b[0m     \u001b[0;32mif\u001b[0m \u001b[0mchunksize\u001b[0m \u001b[0;32mor\u001b[0m \u001b[0miterator\u001b[0m\u001b[0;34m:\u001b[0m\u001b[0;34m\u001b[0m\u001b[0;34m\u001b[0m\u001b[0m\n",
      "\u001b[0;32m~/opt/anaconda3/lib/python3.9/site-packages/pandas/io/parsers/readers.py\u001b[0m in \u001b[0;36m__init__\u001b[0;34m(self, f, engine, **kwds)\u001b[0m\n\u001b[1;32m    930\u001b[0m \u001b[0;34m\u001b[0m\u001b[0m\n\u001b[1;32m    931\u001b[0m         \u001b[0mself\u001b[0m\u001b[0;34m.\u001b[0m\u001b[0mhandles\u001b[0m\u001b[0;34m:\u001b[0m \u001b[0mIOHandles\u001b[0m \u001b[0;34m|\u001b[0m \u001b[0;32mNone\u001b[0m \u001b[0;34m=\u001b[0m \u001b[0;32mNone\u001b[0m\u001b[0;34m\u001b[0m\u001b[0;34m\u001b[0m\u001b[0m\n\u001b[0;32m--> 932\u001b[0;31m         \u001b[0mself\u001b[0m\u001b[0;34m.\u001b[0m\u001b[0m_engine\u001b[0m \u001b[0;34m=\u001b[0m \u001b[0mself\u001b[0m\u001b[0;34m.\u001b[0m\u001b[0m_make_engine\u001b[0m\u001b[0;34m(\u001b[0m\u001b[0mf\u001b[0m\u001b[0;34m,\u001b[0m \u001b[0mself\u001b[0m\u001b[0;34m.\u001b[0m\u001b[0mengine\u001b[0m\u001b[0;34m)\u001b[0m\u001b[0;34m\u001b[0m\u001b[0;34m\u001b[0m\u001b[0m\n\u001b[0m\u001b[1;32m    933\u001b[0m \u001b[0;34m\u001b[0m\u001b[0m\n\u001b[1;32m    934\u001b[0m     \u001b[0;32mdef\u001b[0m \u001b[0mclose\u001b[0m\u001b[0;34m(\u001b[0m\u001b[0mself\u001b[0m\u001b[0;34m)\u001b[0m\u001b[0;34m:\u001b[0m\u001b[0;34m\u001b[0m\u001b[0;34m\u001b[0m\u001b[0m\n",
      "\u001b[0;32m~/opt/anaconda3/lib/python3.9/site-packages/pandas/io/parsers/readers.py\u001b[0m in \u001b[0;36m_make_engine\u001b[0;34m(self, f, engine)\u001b[0m\n\u001b[1;32m   1214\u001b[0m             \u001b[0;31m# \"Union[str, PathLike[str], ReadCsvBuffer[bytes], ReadCsvBuffer[str]]\"\u001b[0m\u001b[0;34m\u001b[0m\u001b[0;34m\u001b[0m\u001b[0m\n\u001b[1;32m   1215\u001b[0m             \u001b[0;31m# , \"str\", \"bool\", \"Any\", \"Any\", \"Any\", \"Any\", \"Any\"\u001b[0m\u001b[0;34m\u001b[0m\u001b[0;34m\u001b[0m\u001b[0m\n\u001b[0;32m-> 1216\u001b[0;31m             self.handles = get_handle(  # type: ignore[call-overload]\n\u001b[0m\u001b[1;32m   1217\u001b[0m                 \u001b[0mf\u001b[0m\u001b[0;34m,\u001b[0m\u001b[0;34m\u001b[0m\u001b[0;34m\u001b[0m\u001b[0m\n\u001b[1;32m   1218\u001b[0m                 \u001b[0mmode\u001b[0m\u001b[0;34m,\u001b[0m\u001b[0;34m\u001b[0m\u001b[0;34m\u001b[0m\u001b[0m\n",
      "\u001b[0;32m~/opt/anaconda3/lib/python3.9/site-packages/pandas/io/common.py\u001b[0m in \u001b[0;36mget_handle\u001b[0;34m(path_or_buf, mode, encoding, compression, memory_map, is_text, errors, storage_options)\u001b[0m\n\u001b[1;32m    784\u001b[0m         \u001b[0;32mif\u001b[0m \u001b[0mioargs\u001b[0m\u001b[0;34m.\u001b[0m\u001b[0mencoding\u001b[0m \u001b[0;32mand\u001b[0m \u001b[0;34m\"b\"\u001b[0m \u001b[0;32mnot\u001b[0m \u001b[0;32min\u001b[0m \u001b[0mioargs\u001b[0m\u001b[0;34m.\u001b[0m\u001b[0mmode\u001b[0m\u001b[0;34m:\u001b[0m\u001b[0;34m\u001b[0m\u001b[0;34m\u001b[0m\u001b[0m\n\u001b[1;32m    785\u001b[0m             \u001b[0;31m# Encoding\u001b[0m\u001b[0;34m\u001b[0m\u001b[0;34m\u001b[0m\u001b[0m\n\u001b[0;32m--> 786\u001b[0;31m             handle = open(\n\u001b[0m\u001b[1;32m    787\u001b[0m                 \u001b[0mhandle\u001b[0m\u001b[0;34m,\u001b[0m\u001b[0;34m\u001b[0m\u001b[0;34m\u001b[0m\u001b[0m\n\u001b[1;32m    788\u001b[0m                 \u001b[0mioargs\u001b[0m\u001b[0;34m.\u001b[0m\u001b[0mmode\u001b[0m\u001b[0;34m,\u001b[0m\u001b[0;34m\u001b[0m\u001b[0;34m\u001b[0m\u001b[0m\n",
      "\u001b[0;31mFileNotFoundError\u001b[0m: [Errno 2] No such file or directory: 'police_fatalities.csv'"
     ]
    }
   ],
   "source": [
    "# download datset from Kaggle\n",
    "police_df = pd.read_csv('police_fatalities.csv') # read csv file \n",
    "\n",
    "# rename columns by replacing spaces with underscores\n",
    "police_df.columns = police_df.columns.str.replace(' ', '_')\n",
    "\n",
    "# replace single quotes with an empty string in column names\n",
    "police_df.columns = police_df.columns.str.replace(\"'\", \"\")"
   ]
  },
  {
   "cell_type": "code",
   "execution_count": null,
   "id": "f5c90517",
   "metadata": {},
   "outputs": [],
   "source": [
    "# print 10 random samples from the dataframe \n",
    "police_df.sample(10)"
   ]
  },
  {
   "cell_type": "markdown",
   "id": "5afd11be",
   "metadata": {},
   "source": [
    "## Data Inspection"
   ]
  },
  {
   "cell_type": "code",
   "execution_count": null,
   "id": "c26df17f",
   "metadata": {},
   "outputs": [],
   "source": [
    "police_df.shape"
   ]
  },
  {
   "cell_type": "code",
   "execution_count": null,
   "id": "8b72a91f",
   "metadata": {},
   "outputs": [],
   "source": [
    "police_df.info()"
   ]
  },
  {
   "cell_type": "code",
   "execution_count": null,
   "id": "f1a09257",
   "metadata": {},
   "outputs": [],
   "source": [
    "# convert coolumns which contain numerical values into numeric data type \n",
    "\n",
    "columns_to_convert = ['Subjects_age', 'Latitude', 'Longitude','Location_of_death_(zip_code)', \n",
    "                      'Imputation_probability','Unique_identifier_(redundant)', 'Date_(Year)']\n",
    "\n",
    "for col in columns_to_convert:\n",
    "    police_df[col] = pd.to_numeric(police_df[col], errors='coerce')\n",
    "    \n",
    "police_df.info() #check data type after conversion "
   ]
  },
  {
   "cell_type": "code",
   "execution_count": null,
   "id": "259bb7c0",
   "metadata": {},
   "outputs": [],
   "source": [
    "# convert the date column to a datetime format\n",
    "police_df['Date_of_injury_resulting_in_death'] = pd.to_datetime(police_df['Date_of_injury_resulting_in_death_(month/day/year)'])\n",
    "\n",
    "# extract month, day, and year into separate columns\n",
    "police_df['Injury_Month'] = police_df['Date_of_injury_resulting_in_death'].dt.month\n",
    "police_df['Injury_Day'] = police_df['Date_of_injury_resulting_in_death'].dt.day\n",
    "police_df['Injury_Year'] = police_df['Date_of_injury_resulting_in_death'].dt.year\n",
    "\n",
    "police_df.sample(10)"
   ]
  },
  {
   "cell_type": "code",
   "execution_count": null,
   "id": "33f38821",
   "metadata": {},
   "outputs": [],
   "source": [
    "police_df.columns #column names within the df "
   ]
  },
  {
   "cell_type": "code",
   "execution_count": null,
   "id": "9b12282f",
   "metadata": {},
   "outputs": [],
   "source": [
    "police_df.nunique() #number of unique values within each column "
   ]
  },
  {
   "cell_type": "code",
   "execution_count": null,
   "id": "44b928bd",
   "metadata": {},
   "outputs": [],
   "source": [
    "police_df.kurtosis() # shape of distribution of numeric columns "
   ]
  },
  {
   "cell_type": "markdown",
   "id": "1cb75a49",
   "metadata": {},
   "source": [
    "## Exploratory Data Analysis"
   ]
  },
  {
   "cell_type": "markdown",
   "id": "d9523892",
   "metadata": {},
   "source": [
    "### Handling Missing Data "
   ]
  },
  {
   "cell_type": "code",
   "execution_count": null,
   "id": "614201ec",
   "metadata": {},
   "outputs": [],
   "source": [
    "#identify missing values in each column \n",
    "police_df.isnull().sum()  "
   ]
  },
  {
   "cell_type": "code",
   "execution_count": null,
   "id": "695615e3",
   "metadata": {},
   "outputs": [],
   "source": [
    "# calculate missing values as a percentage of total data \n",
    "missing_percentage = (police_df.isnull().sum() / len(police_df)) * 100\n",
    "missing_percentage = missing_percentage.sort_values(ascending=False)\n",
    "\n",
    "print('Missing Value Percentage per Column:')\n",
    "print(missing_percentage)"
   ]
  },
  {
   "cell_type": "markdown",
   "id": "feef73bc",
   "metadata": {},
   "source": [
    "The columns which have a majority of their rows missing (50% and above), to maintain the integrity of the data, they will be dropped instead of imputed."
   ]
  },
  {
   "cell_type": "code",
   "execution_count": null,
   "id": "5f1f3b7d",
   "metadata": {},
   "outputs": [],
   "source": [
    "# drop columns where more than 50% of the data is missing \n",
    "\n",
    "# identify columns with more than 50% missing values\n",
    "columns = missing_percentage[missing_percentage > 50]\n",
    "columns_to_drop = missing_percentage[missing_percentage > 50].index\n",
    "\n",
    "print('Columns with More than 50% Missing Values:')\n",
    "print(columns)"
   ]
  },
  {
   "cell_type": "code",
   "execution_count": null,
   "id": "8fff5aa7",
   "metadata": {},
   "outputs": [],
   "source": [
    "# drop the identified columns from the DataFrame\n",
    "police_df.drop(columns=columns_to_drop, inplace=True)"
   ]
  },
  {
   "cell_type": "markdown",
   "id": "f4429cb0",
   "metadata": {},
   "source": [
    "Remaining of the missing values will be filled with the 'most frequent' value using a SimpleImputer."
   ]
  },
  {
   "cell_type": "code",
   "execution_count": null,
   "id": "c4a0f2ba",
   "metadata": {},
   "outputs": [],
   "source": [
    "# use SimpleImputer to replace the NaN values with the 'most frequent value '\n",
    "imp = SimpleImputer(strategy = 'most_frequent')"
   ]
  },
  {
   "cell_type": "code",
   "execution_count": null,
   "id": "16220fdf",
   "metadata": {},
   "outputs": [],
   "source": [
    "# fit and transform the data replacing the NaN values of each feature with the\n",
    "# 'most frequent' value of each feature\n",
    "imputed_df = imp.fit_transform(police_df)"
   ]
  },
  {
   "cell_type": "code",
   "execution_count": null,
   "id": "76cca887",
   "metadata": {},
   "outputs": [],
   "source": [
    "# obtain column names from original df\n",
    "column_names = police_df.columns\n",
    "\n",
    "# create a df from the imputed_data array\n",
    "imputed_df = pd.DataFrame(imputed_df, columns=column_names)\n",
    "\n",
    "imputed_df.head()"
   ]
  },
  {
   "cell_type": "markdown",
   "id": "d1de1173",
   "metadata": {},
   "source": [
    "### Removing Duplicate Values"
   ]
  },
  {
   "cell_type": "code",
   "execution_count": null,
   "id": "02a597cc",
   "metadata": {},
   "outputs": [],
   "source": [
    "# identify number of duplicates in the df  \n",
    "duplicates = imputed_df.duplicated()\n",
    "\n",
    "# display rows with duplicates\n",
    "duplicates = imputed_df.duplicated()\n",
    "count_duplicates = duplicates.sum()\n",
    "print(\"Count of Duplicate Rows:\", count_duplicates)"
   ]
  },
  {
   "cell_type": "markdown",
   "id": "b9576767",
   "metadata": {},
   "source": [
    "Data frame has zero duplicate values, thus all values remain. "
   ]
  },
  {
   "cell_type": "markdown",
   "id": "d8593b39",
   "metadata": {},
   "source": [
    "### Dropping Columns "
   ]
  },
  {
   "cell_type": "code",
   "execution_count": null,
   "id": "f7508a72",
   "metadata": {},
   "outputs": [],
   "source": [
    "# drop redudant columns that will not be used for modeling \n",
    "\n",
    "imputed_df.drop(columns=['Unique_identifier_(redundant)', 'Link_to_news_article_or_photo_of_official_document', \n",
    "                        'Subjects_race_with_imputations', 'Subjects_name', 'Date&Description', \n",
    "                        'Full_Address', 'Date_(Year)', 'Date_of_injury_resulting_in_death', 'Injury_Day', \n",
    "                        'Date_of_injury_resulting_in_death_(month/day/year)'],inplace=True)\n",
    "\n",
    "imputed_df.head()"
   ]
  },
  {
   "cell_type": "markdown",
   "id": "7b977abd",
   "metadata": {},
   "source": [
    "## Data Visualizations\n"
   ]
  },
  {
   "cell_type": "markdown",
   "id": "4541e6de",
   "metadata": {},
   "source": [
    "#### Map Visualizations - Subset Dataset to California "
   ]
  },
  {
   "cell_type": "code",
   "execution_count": null,
   "id": "6f7d418b",
   "metadata": {},
   "outputs": [],
   "source": [
    "# create United States map with incidents based on longitude and latitude values - sorted by gender \n",
    "\n",
    "# calculate the average latitude and longitude values \n",
    "average_latitude = imputed_df['Latitude'].mean()\n",
    "average_longitude = imputed_df['Longitude'].mean()\n",
    "\n",
    "# use the average coordinates as the center\n",
    "latitude_center = average_latitude\n",
    "longitude_center = average_longitude\n",
    "\n",
    "\n",
    "us_map = folium.Map(location=[latitude_center, longitude_center], zoom_start=3)\n",
    "\n",
    "# add markers for each location using latitude and longitude based on identified gender \n",
    "for index, row in imputed_df.iterrows():\n",
    "    gender = row[\"Subjects_gender\"]\n",
    "    color = 'blue' if gender == 'Male' else 'red' if gender == 'Female' else 'gray' \n",
    "\n",
    "    folium.CircleMarker(\n",
    "        location=[row['Latitude'], row['Longitude']],\n",
    "        radius=5,  \n",
    "        color=color,\n",
    "        fill=True,\n",
    "        fill_color=color,\n",
    "        fill_opacity=0.6,\n",
    "        tooltip=f\"Gender: {gender}\"\n",
    "    ).add_to(us_map)\n",
    "\n",
    "# display map\n",
    "us_map"
   ]
  },
  {
   "cell_type": "code",
   "execution_count": null,
   "id": "6bf54e83",
   "metadata": {},
   "outputs": [],
   "source": [
    "# create subset for California data \n",
    "ca_df = imputed_df[imputed_df['Location_of_death_(state)'] == 'CA']\n",
    "\n",
    "#drop location by state and zip code\n",
    "ca_df = ca_df.drop(columns=['Location_of_death_(state)', 'Location_of_death_(zip_code)'])\n",
    "\n",
    "ca_df.sample(10)"
   ]
  },
  {
   "cell_type": "code",
   "execution_count": null,
   "id": "13f459e8",
   "metadata": {},
   "outputs": [],
   "source": [
    "# convert coolumns which contain numerical values into numeric data type \n",
    "\n",
    "columns_to_convert = ['Subjects_age', 'Latitude', 'Longitude', 'Injury_Year', 'Injury_Month']\n",
    "\n",
    "for col in columns_to_convert:\n",
    "    ca_df[col] = pd.to_numeric(ca_df[col], errors='coerce')\n",
    "    \n",
    "ca_df.info() #check data type after conversion "
   ]
  },
  {
   "cell_type": "code",
   "execution_count": null,
   "id": "1401267b",
   "metadata": {},
   "outputs": [],
   "source": [
    "# create a map of califronia incidents to find outliers \n",
    "\n",
    "# calculate the average latitude and longitude values \n",
    "average_latitude = ca_df['Latitude'].mean()\n",
    "average_longitude = ca_df['Longitude'].mean()\n",
    "\n",
    "# use the average coordinates as the center\n",
    "latitude_center = average_latitude\n",
    "longitude_center = average_longitude\n",
    "\n",
    "\n",
    "ca_map = folium.Map(location=[latitude_center, longitude_center], zoom_start=5)\n",
    "\n",
    "# add markers for each location using latitude and longitude based on identified gender \n",
    "for index, row in ca_df.iterrows():\n",
    "    gender = row[\"Subjects_gender\"]\n",
    "    color = 'blue' if gender == 'Male' else 'red' if gender == 'Female' else 'gray' \n",
    "\n",
    "    folium.CircleMarker(\n",
    "        location=[row['Latitude'], row['Longitude']],\n",
    "        radius=5,  \n",
    "        color=color,\n",
    "        fill=True,\n",
    "        fill_color=color,\n",
    "        fill_opacity=0.6,\n",
    "        tooltip=f\"Gender: {gender}\"\n",
    "    ).add_to(ca_map)\n",
    "\n",
    "# display map\n",
    "ca_map"
   ]
  },
  {
   "cell_type": "markdown",
   "id": "f970e1e3",
   "metadata": {},
   "source": [
    "From the map we can identify outliers within longitude and latitude, these will be removed from the dataframe."
   ]
  },
  {
   "cell_type": "markdown",
   "id": "e3b8c716",
   "metadata": {},
   "source": [
    "#### Pair Plot"
   ]
  },
  {
   "cell_type": "code",
   "execution_count": null,
   "id": "7ba2d69b",
   "metadata": {},
   "outputs": [],
   "source": [
    "# reset the index to remove any duplicate labels\n",
    "ca_df.reset_index(drop=True, inplace=True)\n",
    "\n",
    "# create a pair plot\n",
    "sns.pairplot(ca_df)\n",
    "plt.show()"
   ]
  },
  {
   "cell_type": "markdown",
   "id": "1e7750f2",
   "metadata": {},
   "source": [
    "#### Box Plots"
   ]
  },
  {
   "cell_type": "code",
   "execution_count": null,
   "id": "0964a4c8",
   "metadata": {},
   "outputs": [],
   "source": [
    "# List of numerical predictors\n",
    "predictors = ['Subjects_age', 'Latitude', 'Longitude', 'Injury_Year']\n",
    "\n",
    "# create boxplots \n",
    "plt.figure(figsize=(12, 8))  \n",
    "\n",
    "for i, predictor in enumerate(predictors):\n",
    "    plt.subplot(2, 2, i + 1)  \n",
    "    sns.boxplot(data=ca_df, y=predictor, width=0.5)\n",
    "    plt.title(f'Boxplot of {predictor}')\n",
    "    plt.ylabel(predictor)\n",
    "\n",
    "plt.tight_layout()  \n",
    "plt.show()"
   ]
  },
  {
   "cell_type": "markdown",
   "id": "5905f7b4",
   "metadata": {},
   "source": [
    "The column 'Injury_Year' appears to have an outlier, the column will be reflected to only show data collected form 2000-2020. "
   ]
  },
  {
   "cell_type": "markdown",
   "id": "f50e359d",
   "metadata": {},
   "source": [
    "#### Bar Plots"
   ]
  },
  {
   "cell_type": "code",
   "execution_count": null,
   "id": "aae5da11",
   "metadata": {},
   "outputs": [],
   "source": [
    "# list of selected columnsfor bar plot \n",
    "selected_columns =['Subjects_gender', 'Subjects_race', 'Cause_of_death', 'Intentional_Use_of_Force_(Developing)',\n",
    "                   'Symptoms_of_mental_illness?_INTERNAL_USE,_NOT_FOR_ANALYSIS', 'Injury_Year', 'Injury_Month']\n",
    "\n",
    "# calculate the number of rows and columns for the subplot grid\n",
    "num_cols = 2\n",
    "num_rows = (len(selected_columns) - 1) // num_cols + 1\n",
    "\n",
    "# create subplots and flatten axis\n",
    "fig, axes = plt.subplots(num_rows, num_cols, figsize=(15, 15))\n",
    "axes = axes.flatten()\n",
    "\n",
    "# iterate through selected columns and create horizontal countplots\n",
    "for i, column in enumerate(selected_columns):\n",
    "    sns.countplot(data=ca_df, y=column, ax=axes[i])\n",
    "    axes[i].tick_params(axis='x', rotation=45)  \n",
    "\n",
    "    axes[i].set_title(f'{column}')\n",
    "    axes[i].set_xlabel('Count')\n",
    "    axes[i].set_ylabel('')\n",
    "\n",
    "# remove empty subplots\n",
    "for i in range(len(selected_columns), num_rows * num_cols):\n",
    "    fig.delaxes(axes[i])\n",
    "\n",
    "plt.tight_layout()\n",
    "plt.show()"
   ]
  },
  {
   "cell_type": "code",
   "execution_count": null,
   "id": "c99a32a3",
   "metadata": {},
   "outputs": [],
   "source": [
    "# create figure with subplots\n",
    "fig, axes = plt.subplots(4, 1, figsize=(10, 18))\n",
    "\n",
    "# first suplot - top 25 cities for deaths \n",
    "sns.countplot(data=ca_df, y='Location_of_death_(city)', \n",
    "              order=ca_df['Location_of_death_(city)'].value_counts().index[:25], ax=axes[0])\n",
    "axes[0].set_xlabel('Count')\n",
    "axes[0].set_ylabel('City')\n",
    "axes[0].set_title('Top 25 Cities for Deaths')\n",
    "\n",
    "\n",
    "# second subplot - top 25 counties for deaths \n",
    "sns.countplot(data=ca_df, y='Location_of_death_(county)', \n",
    "              order=ca_df['Location_of_death_(county)'].value_counts().index[:25], ax=axes[1])\n",
    "axes[1].set_xlabel('Count')\n",
    "axes[1].set_ylabel('County')\n",
    "axes[1].set_title('Top 25 Counties for Deaths')\n",
    "\n",
    "# third suplot - top 25 agencies responsible for deaths \n",
    "sns.countplot(data=ca_df, y='Agency_responsible_for_death', \n",
    "              order=ca_df['Agency_responsible_for_death'].value_counts().index[:25], ax=axes[2])\n",
    "axes[2].set_xlabel('Count')\n",
    "axes[2].set_ylabel('Agency')\n",
    "axes[2].set_title('Top 25 Agencies Responsible for Deaths')\n",
    "\n",
    "\n",
    "# fourth suplot - subjects age \n",
    "sns.kdeplot(data=ca_df, x='Subjects_age', fill=True, ax=axes[3])\n",
    "axes[3].set_xlabel('Age')\n",
    "axes[3].set_ylabel('Density')\n",
    "axes[3].set_title('Subject\\'s Age')\n",
    "\n",
    "\n",
    "# Adjust subplot spacing\n",
    "plt.tight_layout()\n",
    "\n",
    "# Show the combined plot\n",
    "plt.show()"
   ]
  },
  {
   "cell_type": "markdown",
   "id": "3a43b81d",
   "metadata": {},
   "source": [
    "#### Line Plot (Trend of Deaths)"
   ]
  },
  {
   "cell_type": "code",
   "execution_count": null,
   "id": "c91e102a",
   "metadata": {},
   "outputs": [],
   "source": [
    "# per boxplot, the years will be filtered to 2000-2020 \n",
    "ca_df = ca_df[(ca_df['Injury_Year'] >= 2000) & (ca_df['Injury_Year'] <= 2020)]\n",
    "\n",
    "yearly_deaths = ca_df['Injury_Year'].value_counts().sort_index()\n",
    "\n",
    "# create a line plot for the trend\n",
    "plt.figure(figsize=(10, 6))\n",
    "plt.plot(yearly_deaths.index, yearly_deaths.values, marker='o', linestyle='-')\n",
    "plt.xlabel('Year')\n",
    "plt.ylabel('Count of Deaths')\n",
    "plt.title('Trend of Deaths Over the Years')\n",
    "\n",
    "# set x-axis ticks to display every 5 years from 2000 to 2020\n",
    "plt.xticks(range(2000, 2021, 5))\n",
    "\n",
    "\n",
    "plt.grid(False)\n",
    "plt.show()"
   ]
  },
  {
   "cell_type": "markdown",
   "id": "76f98f33",
   "metadata": {},
   "source": [
    "### Removing Outliers "
   ]
  },
  {
   "cell_type": "code",
   "execution_count": null,
   "id": "2b22d25a",
   "metadata": {},
   "outputs": [],
   "source": [
    "# removing outliers from 'longitude' and 'latitude' \n",
    "\n",
    "# calculate the interquartile range (IQR) for latitude and longitude to remove outliers \n",
    "Q1_latitude = ca_df['Latitude'].quantile(0.25)\n",
    "Q3_latitude = ca_df['Latitude'].quantile(0.75)\n",
    "IQR_latitude = Q3_latitude - Q1_latitude\n",
    "\n",
    "Q1_longitude = ca_df['Longitude'].quantile(0.25)\n",
    "Q3_longitude = ca_df['Longitude'].quantile(0.75)\n",
    "IQR_longitude = Q3_longitude - Q1_longitude\n",
    "\n",
    "# define the lower and upper bounds using IQR\n",
    "latitude_lower_bound = Q1_latitude - 1.5 * IQR_latitude\n",
    "latitude_upper_bound = Q3_latitude + 1.5 * IQR_latitude\n",
    "\n",
    "longitude_lower_bound = Q1_longitude - 1.5 * IQR_longitude\n",
    "longitude_upper_bound = Q3_longitude + 1.5 * IQR_longitude\n",
    "\n",
    "# filter df based on IQR\n",
    "filtered_df = ca_df[\n",
    "    (ca_df['Latitude'] >= latitude_lower_bound) &\n",
    "    (ca_df['Latitude'] <= latitude_upper_bound) &\n",
    "    (ca_df['Longitude'] >= longitude_lower_bound) &\n",
    "    (ca_df['Longitude'] <= longitude_upper_bound)\n",
    "]"
   ]
  },
  {
   "cell_type": "code",
   "execution_count": null,
   "id": "4f580bcd",
   "metadata": {},
   "outputs": [],
   "source": [
    "# removing outliers from 'subjects_age'\n",
    "ca_df['Subjects_age'].unique()"
   ]
  },
  {
   "cell_type": "code",
   "execution_count": null,
   "id": "28e4537e",
   "metadata": {},
   "outputs": [],
   "source": [
    "# calculate the interquartile range (IQR) for latitude and longitude to remove outliers \n",
    "Q1_latitude = ca_df['Subjects_age'].quantile(0.25)\n",
    "Q3_latitude = ca_df['Subjects_age'].quantile(0.75)\n",
    "IQR_latitude = Q3_latitude - Q1_latitude\n",
    "\n",
    "\n",
    "# define the lower and upper bounds using IQR\n",
    "latitude_lower_bound = Q1_latitude - 1.5 * IQR_latitude\n",
    "latitude_upper_bound = Q3_latitude + 1.5 * IQR_latitude\n",
    "\n",
    "# filter df based on IQR\n",
    "filtered_df = ca_df[\n",
    "    (ca_df['Subjects_age'] >= latitude_lower_bound) &\n",
    "    (ca_df['Subjects_age'] <= latitude_upper_bound)] "
   ]
  },
  {
   "cell_type": "markdown",
   "id": "eab3c85f",
   "metadata": {},
   "source": [
    "### Contigency Tables"
   ]
  },
  {
   "cell_type": "code",
   "execution_count": null,
   "id": "f240126c",
   "metadata": {},
   "outputs": [],
   "source": [
    "# define target column \n",
    "target_column = 'Cause_of_death'\n",
    "\n",
    "# create an empty array to store the results\n",
    "chi2_results = []\n",
    "\n",
    "# iterate through all columns (without the target column)\n",
    "for column in ca_df.columns:\n",
    "    if column != target_column:\n",
    "        cross_tab = pd.crosstab(index=ca_df[column], columns=ca_df[target_column])\n",
    "        chi2, p, dof, expected = chi2_contingency(cross_tab)\n",
    "        chi2_results.append({\n",
    "            'Variable': column,\n",
    "            'Chi-Square Value': chi2,\n",
    "            'P-Value': p,\n",
    "            'Degrees of Freedom': dof\n",
    "        })\n",
    "\n",
    "# display results \n",
    "chi2_df = pd.DataFrame(chi2_results)\n",
    "chi2_df"
   ]
  },
  {
   "cell_type": "code",
   "execution_count": null,
   "id": "58089496",
   "metadata": {},
   "outputs": [],
   "source": [
    "# define target column \n",
    "target_column = 'Intentional_Use_of_Force_(Developing)'\n",
    "\n",
    "# create an empty array to store the results\n",
    "chi2_results = []\n",
    "\n",
    "# iterate through all columns (without the target column)\n",
    "for column in ca_df.columns:\n",
    "    if column != target_column:\n",
    "        cross_tab = pd.crosstab(index=ca_df[column], columns=ca_df[target_column])\n",
    "        chi2, p, dof, expected = chi2_contingency(cross_tab)\n",
    "        chi2_results.append({\n",
    "            'Variable': column,\n",
    "            'Chi-Square Value': chi2,\n",
    "            'P-Value': p,\n",
    "            'Degrees of Freedom': dof\n",
    "        })\n",
    "\n",
    "# display results \n",
    "chi2_df = pd.DataFrame(chi2_results)\n",
    "chi2_df"
   ]
  },
  {
   "cell_type": "code",
   "execution_count": null,
   "id": "cb57662b",
   "metadata": {},
   "outputs": [],
   "source": [
    "# create contigency table for 'Intentional_Use_of_Force_(Developing)' and 'Cause_of_death'\n",
    "contingency_force = pd.crosstab(ca_df['Intentional_Use_of_Force_(Developing)'], ca_df ['Cause_of_death'])\n",
    "\n",
    "contingency_force"
   ]
  },
  {
   "cell_type": "code",
   "execution_count": null,
   "id": "506fd529",
   "metadata": {},
   "outputs": [],
   "source": [
    "# create contigency table for 'Intentional_Use_of_Force_(Developing)' and 'Dispositions/Exclusions_INTERNAL_USE,_NOT_FOR_ANALYSIS'\n",
    "contingency_disposition = pd.crosstab(ca_df['Intentional_Use_of_Force_(Developing)'], ca_df['Dispositions/Exclusions_INTERNAL_USE,_NOT_FOR_ANALYSIS'])\n",
    "\n",
    "contingency_disposition"
   ]
  },
  {
   "cell_type": "code",
   "execution_count": null,
   "id": "609bec86",
   "metadata": {},
   "outputs": [],
   "source": [
    "# create contigency table for 'Cause_of_death' and 'Dispositions/Exclusions_INTERNAL_USE,_NOT_FOR_ANALYSIS'\n",
    "contingency_death = pd.crosstab(ca_df['Cause_of_death'], ca_df['Dispositions/Exclusions_INTERNAL_USE,_NOT_FOR_ANALYSIS'])\n",
    "\n",
    "contingency_death"
   ]
  },
  {
   "cell_type": "markdown",
   "id": "0405bd8a",
   "metadata": {},
   "source": [
    "### ANOVA (Cause of Death and Numerical Values)"
   ]
  },
  {
   "cell_type": "code",
   "execution_count": null,
   "id": "21bd6954",
   "metadata": {},
   "outputs": [],
   "source": [
    "# ANOVA between numberical variables and Cause of Death \n",
    "\n",
    "for predictor in ['Subjects_age', 'Latitude', 'Longitude', 'Injury_Year']:\n",
    "    grouped_data = [ca_df[predictor][ca_df['Cause_of_death'] == category] for category in ca_df['Cause_of_death'].unique()]\n",
    "    f_statistic, p_value = stats.f_oneway(*grouped_data)\n",
    "    print(f'{predictor} vs. Cause of Death:')\n",
    "    print(f'F-statistic: {f_statistic}')\n",
    "    print(f'P-value: {p_value}\\n')"
   ]
  },
  {
   "cell_type": "markdown",
   "id": "ecb04340",
   "metadata": {},
   "source": [
    "### Text Analysis (brief description column)"
   ]
  },
  {
   "cell_type": "code",
   "execution_count": null,
   "id": "b8254a99",
   "metadata": {},
   "outputs": [],
   "source": [
    "corpus = ca_df['A_brief_description_of_the_circumstances_surrounding_the_death']\n",
    "\n",
    "corpus.tail()"
   ]
  },
  {
   "cell_type": "code",
   "execution_count": null,
   "id": "ca76362c",
   "metadata": {},
   "outputs": [],
   "source": [
    "corpus.sample(20)"
   ]
  },
  {
   "cell_type": "code",
   "execution_count": null,
   "id": "88604c63",
   "metadata": {},
   "outputs": [],
   "source": [
    "corpus.describe()"
   ]
  },
  {
   "cell_type": "code",
   "execution_count": null,
   "id": "fa7220dd",
   "metadata": {},
   "outputs": [],
   "source": [
    "# tfidfVectorizer\n",
    "vectorizer = TfidfVectorizer()\n",
    "\n",
    "# apply vectorizer tp corpus\n",
    "spmat = vectorizer.fit_transform(corpus)"
   ]
  },
  {
   "cell_type": "code",
   "execution_count": null,
   "id": "a8217fe1",
   "metadata": {},
   "outputs": [],
   "source": [
    "# create new df 'X'\n",
    "X = pd.DataFrame.sparse.from_spmatrix(spmat)"
   ]
  },
  {
   "cell_type": "code",
   "execution_count": null,
   "id": "dd443825",
   "metadata": {},
   "outputs": [],
   "source": [
    "labels = ca_df['Cause_of_death']\n",
    "\n",
    "# subset labels that have text data present\n",
    "text_subset = labels.loc[corpus.index]\n",
    "\n",
    "text_subset"
   ]
  },
  {
   "cell_type": "code",
   "execution_count": null,
   "id": "d797cb0f",
   "metadata": {},
   "outputs": [],
   "source": [
    "# split the data\n",
    "X_train, X_test, y_train, y_test = train_test_split(X, text_subset,\n",
    "                                                    test_size=0.50)"
   ]
  },
  {
   "cell_type": "code",
   "execution_count": null,
   "id": "265560df",
   "metadata": {},
   "outputs": [],
   "source": [
    "# feature selection\n",
    "X_new = SelectKBest(score_func=f_classif, k=10)\n",
    "\n",
    "# fit selector on training data\n",
    "X_new.fit(X_train, y_train)\n",
    "\n",
    "# transform training and test data\n",
    "X_train_selected = X_new.transform(X_train)\n",
    "X_test_selected = X_new.transform(X_test)"
   ]
  },
  {
   "cell_type": "code",
   "execution_count": null,
   "id": "1ed1f50a",
   "metadata": {},
   "outputs": [],
   "source": [
    "print('Top 10 features %s' % X_train.columns[X_new.get_support()].tolist())"
   ]
  },
  {
   "cell_type": "code",
   "execution_count": null,
   "id": "d771dfa4",
   "metadata": {},
   "outputs": [],
   "source": [
    "# retrieve feature names\n",
    "feature_names = vectorizer.get_feature_names_out()\n",
    "selected_indices = X_new.get_support(indices=True)\n",
    "\n",
    "# Top 10 selected words\n",
    "print('Top 10 selected words:', [feature_names[i] for i in selected_indices])"
   ]
  },
  {
   "cell_type": "markdown",
   "id": "f2f32f08",
   "metadata": {},
   "source": [
    "The 'A_brief_description_of_the_circumstances_surrounding_the_death' was deemed to be irrelevant and will be dropped from the df. "
   ]
  },
  {
   "cell_type": "code",
   "execution_count": null,
   "id": "ee629d80",
   "metadata": {},
   "outputs": [],
   "source": [
    "ca_df.drop(columns=['A_brief_description_of_the_circumstances_surrounding_the_death'])"
   ]
  },
  {
   "cell_type": "markdown",
   "id": "790cefd9",
   "metadata": {},
   "source": [
    "## Data Pre-Processing"
   ]
  },
  {
   "cell_type": "code",
   "execution_count": null,
   "id": "788d19dc",
   "metadata": {},
   "outputs": [],
   "source": [
    "ca_df['Intentional_Use_of_Force_(Developing)'].unique()"
   ]
  },
  {
   "cell_type": "code",
   "execution_count": null,
   "id": "63488296",
   "metadata": {},
   "outputs": [],
   "source": [
    "# map values into two actegories intentional use of force and non-intentional\n",
    "\n",
    "# define the mapping of values to categories\n",
    "mapping = {\n",
    "    'Vehicle/Pursuit': 'Nonintentional',\n",
    "    'Intentional Use of Force, Deadly': 'Intentional Use of Force, Deadly',\n",
    "    'Yes': 'Intentional Use of Force, Deadly',\n",
    "    'Suicide': 'Nonintentional',\n",
    "    'No': 'Nonintentional',\n",
    "    'Undetermined': 'Nonintentional',\n",
    "    'Intenional Use of Force, Deadly': 'Intentional Use of Force, Deadly', \n",
    "    'Pursuit': 'Nonintentional', \n",
    "}\n",
    "\n",
    "# replace values based on the mapping\n",
    "force_df = ca_df['Intentional_Use_of_Force_(Developing)'].map(mapping)\n",
    "\n",
    "# verify the result\n",
    "force_df.unique()"
   ]
  },
  {
   "cell_type": "markdown",
   "id": "7f5e91da",
   "metadata": {},
   "source": [
    "### Encoding Data"
   ]
  },
  {
   "cell_type": "code",
   "execution_count": null,
   "id": "c8c8a513",
   "metadata": {},
   "outputs": [],
   "source": [
    "filtered_encoded_df = ca_df.copy()\n",
    "\n",
    "# identify categorical columns\n",
    "categorical_columns = categorical_columns = ['Subjects_gender', 'Subjects_race', 'Location_of_injury_(address)', \n",
    "                                             'Location_of_death_(city)', 'Location_of_death_(county)', \n",
    "                                             'Agency_responsible_for_death','Cause_of_death', \n",
    "                                             'A_brief_description_of_the_circumstances_surrounding_the_death', \n",
    "                                             'Dispositions/Exclusions_INTERNAL_USE,_NOT_FOR_ANALYSIS',  \n",
    "                                             'Symptoms_of_mental_illness?_INTERNAL_USE,_NOT_FOR_ANALYSIS'\n",
    "]\n",
    "\n",
    "# create df for categorical features\n",
    "cat_df = filtered_encoded_df[categorical_columns]\n",
    "\n",
    "\n",
    "# one-hot encoding with handle_unknown='ignore'\n",
    "encoder = OneHotEncoder(handle_unknown='ignore', sparse=False)\n",
    "encoded_cat = encoder.fit_transform(cat_df)\n",
    "\n",
    "# get the feature names after encoding\n",
    "feature_names = encoder.get_feature_names_out(input_features=categorical_columns)\n",
    "\n",
    "# fill missing values in the encoded DataFrame\n",
    "encoded_df = pd.DataFrame(encoded_cat, columns=feature_names)\n",
    "encoded_df.fillna(0, inplace=True) \n",
    "\n",
    "# concatenate the original df and df with encoded features\n",
    "# drop the categorical columns from ca_df\n",
    "ca_df = ca_df.drop(columns=categorical_columns)\n",
    "encoded_df = pd.concat([ca_df, encoded_df], axis=1)"
   ]
  },
  {
   "cell_type": "code",
   "execution_count": null,
   "id": "8ea70ed1",
   "metadata": {},
   "outputs": [],
   "source": [
    "encoded_df.sample(10)"
   ]
  },
  {
   "cell_type": "code",
   "execution_count": null,
   "id": "21d56624",
   "metadata": {},
   "outputs": [],
   "source": [
    "encoded_df.isna().sum()"
   ]
  },
  {
   "cell_type": "code",
   "execution_count": null,
   "id": "82b91738",
   "metadata": {},
   "outputs": [],
   "source": [
    "encoded_df.shape"
   ]
  },
  {
   "cell_type": "markdown",
   "id": "79baca69",
   "metadata": {},
   "source": [
    "### Data Splitting"
   ]
  },
  {
   "cell_type": "code",
   "execution_count": null,
   "id": "2a22e011",
   "metadata": {},
   "outputs": [],
   "source": [
    "# create a copy of df\n",
    "ca_df = encoded_df.copy()"
   ]
  },
  {
   "cell_type": "code",
   "execution_count": null,
   "id": "c6e8e27e",
   "metadata": {},
   "outputs": [],
   "source": [
    "# split the dataset to predict whether death was intentional \n",
    "X = ca_df.drop('Intentional_Use_of_Force_(Developing)', axis=1)\n",
    "y = force_df #Intentional_Use_of_Force_(Developing)is stored in its own df \n",
    "\n",
    "X_train, X_test, y_train, y_test = train_test_split(X, y, test_size=0.4, random_state=42)\n",
    "\n",
    "# scale the train & test set\n",
    "scaler = StandardScaler()\n",
    "X_train_scaled = scaler.fit_transform(X_train)\n",
    "X_test_scaled = scaler.transform(X_test)\n",
    "\n",
    "\n",
    "# print the dimensions of X_train_pca and X_test_pca\n",
    "print(\"Dimensions of X_train_pca:\", X_train_scaled.shape)\n",
    "print(\"Dimensions of X_test_pca:\", X_test_scaled.shape)"
   ]
  }
 ],
 "metadata": {
  "kernelspec": {
   "display_name": "Python 3 (ipykernel)",
   "language": "python",
   "name": "python3"
  },
  "language_info": {
   "codemirror_mode": {
    "name": "ipython",
    "version": 3
   },
   "file_extension": ".py",
   "mimetype": "text/x-python",
   "name": "python",
   "nbconvert_exporter": "python",
   "pygments_lexer": "ipython3",
   "version": "3.9.13"
  }
 },
 "nbformat": 4,
 "nbformat_minor": 5
}
